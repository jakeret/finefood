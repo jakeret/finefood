{
 "cells": [
  {
   "cell_type": "code",
   "execution_count": 27,
   "metadata": {},
   "outputs": [],
   "source": [
    "import numpy as np\n",
    "import pandas as pd\n",
    "\n",
    "from finefood import utils\n",
    "from finefood import score_model\n",
    "from finefood import preprocessing\n",
    "\n",
    "from sklearn.model_selection import train_test_split\n",
    "\n",
    "from keras.utils import np_utils\n",
    "from keras.callbacks import ModelCheckpoint, TensorBoard\n",
    "\n",
    "import matplotlib.pyplot as plt\n",
    "%matplotlib inline"
   ]
  },
  {
   "cell_type": "code",
   "execution_count": null,
   "metadata": {},
   "outputs": [],
   "source": []
  },
  {
   "cell_type": "code",
   "execution_count": 2,
   "metadata": {},
   "outputs": [],
   "source": [
    "df = pd.read_csv(\"./data/Reviews.csv\").set_index(\"Id\")\n",
    "df = df.sample(n=1000)"
   ]
  },
  {
   "cell_type": "code",
   "execution_count": 3,
   "metadata": {},
   "outputs": [],
   "source": [
    "word_to_index, index_to_word, word_to_vec_map = utils.read_glove_vecs(\"./data/glove.6B/glove.6B.50d.txt\")\n",
    "corpus = word_to_index.keys()"
   ]
  },
  {
   "cell_type": "code",
   "execution_count": 4,
   "metadata": {},
   "outputs": [
    {
     "data": {
      "text/plain": [
       "400000"
      ]
     },
     "execution_count": 4,
     "metadata": {},
     "output_type": "execute_result"
    }
   ],
   "source": [
    "len(corpus)"
   ]
  },
  {
   "cell_type": "code",
   "execution_count": null,
   "metadata": {},
   "outputs": [],
   "source": []
  },
  {
   "cell_type": "code",
   "execution_count": 5,
   "metadata": {},
   "outputs": [],
   "source": [
    "clean_texts = np.array([preprocessing.clean_text(t, corpus) for t in df.Text])\n",
    "scores = df.Score.values"
   ]
  },
  {
   "cell_type": "code",
   "execution_count": 6,
   "metadata": {},
   "outputs": [
    {
     "name": "stdout",
     "output_type": "stream",
     "text": [
      "5 love cherry pie lara best tasty bar sugar bar diabetics low sugar carbs\n",
      "5 melitta cafe collection blanc et noir coffee refined notice soon open aroma translates well throughout brewing process remains poured taste find flavor bold yet slightly powerful flavor without coarseness went directly one high pressure coffee pod brewing systems using melitta seems melitta helped find way back better cup\n",
      "5 girls absolutely loved heaven get enough tasty bit pricey since cats pack went super fast giving treat\n",
      "5 vendor fast tea simply best way relax great tasting highly recommend\n",
      "5 update lot happen couple last two cases ordered amazon whole artichoke leaves several cans small soft leaves near talking big tough artichoke brown spots many poor contacted amazon first time replaced case quality much second time asked refund two times couple months also contacted reese doubted asked sending two cans told gladly send cans would impression reese changed much longer buy review tried every brand love buy already great tossing always good consistent never bad one best price amazon cheaper per local grocery\n"
     ]
    }
   ],
   "source": [
    "for score, text in zip(scores[:5], clean_texts):\n",
    "    print(score, text)"
   ]
  },
  {
   "cell_type": "code",
   "execution_count": 7,
   "metadata": {},
   "outputs": [],
   "source": [
    "maxLen = 10"
   ]
  },
  {
   "cell_type": "code",
   "execution_count": 8,
   "metadata": {},
   "outputs": [],
   "source": [
    "scores_oh = np_utils.to_categorical(scores)[:, 1:]\n",
    "text_indices = preprocessing.sentences_to_indices(clean_texts, word_to_index, maxLen)\n",
    "X_train, X_test, y_train, y_test = train_test_split(text_indices, scores_oh, test_size=.2)"
   ]
  },
  {
   "cell_type": "code",
   "execution_count": 9,
   "metadata": {},
   "outputs": [
    {
     "data": {
      "text/plain": [
       "((800, 10), (200, 10), (800, 5), (200, 5))"
      ]
     },
     "execution_count": 9,
     "metadata": {},
     "output_type": "execute_result"
    }
   ],
   "source": [
    "X_train.shape, X_test.shape, y_train.shape, y_test.shape"
   ]
  },
  {
   "cell_type": "code",
   "execution_count": null,
   "metadata": {},
   "outputs": [],
   "source": []
  },
  {
   "cell_type": "code",
   "execution_count": 10,
   "metadata": {},
   "outputs": [
    {
     "name": "stdout",
     "output_type": "stream",
     "text": [
      "_________________________________________________________________\n",
      "Layer (type)                 Output Shape              Param #   \n",
      "=================================================================\n",
      "input_1 (InputLayer)         (None, 10)                0         \n",
      "_________________________________________________________________\n",
      "embedding_1 (Embedding)      (None, 10, 50)            20000050  \n",
      "_________________________________________________________________\n",
      "lstm_1 (LSTM)                (None, 10, 128)           91648     \n",
      "_________________________________________________________________\n",
      "dropout_1 (Dropout)          (None, 10, 128)           0         \n",
      "_________________________________________________________________\n",
      "lstm_2 (LSTM)                (None, 128)               131584    \n",
      "_________________________________________________________________\n",
      "dropout_2 (Dropout)          (None, 128)               0         \n",
      "_________________________________________________________________\n",
      "dense_1 (Dense)              (None, 5)                 645       \n",
      "_________________________________________________________________\n",
      "activation_1 (Activation)    (None, 5)                 0         \n",
      "=================================================================\n",
      "Total params: 20,223,927\n",
      "Trainable params: 20,223,927\n",
      "Non-trainable params: 0\n",
      "_________________________________________________________________\n"
     ]
    }
   ],
   "source": [
    "model = score_model.build_model((maxLen,), word_to_vec_map, word_to_index)\n",
    "model.compile(loss='categorical_crossentropy', optimizer='adam', metrics=['accuracy'])\n",
    "model.summary()"
   ]
  },
  {
   "cell_type": "code",
   "execution_count": 19,
   "metadata": {},
   "outputs": [],
   "source": [
    "\n",
    "def train_model(model, X_train, X_test, y_train, y_test, **kwargs):\n",
    "    filepath=\"weights-improvement-{epoch:02d}-{val_acc:.2f}.hdf5\"\n",
    "    checkpoint = ModelCheckpoint(filepath, \n",
    "                                 monitor='val_acc', \n",
    "                                 verbose=1, \n",
    "                                 save_best_only=True, \n",
    "                                 mode='max')\n",
    "    tensorboard = TensorBoard(log_dir='./logs', \n",
    "                              histogram_freq=0, \n",
    "                              batch_size=kwargs.get(\"batch_size\", 32), \n",
    "                              write_graph=True)\n",
    "\n",
    "    callbacks = [checkpoint, tensorboard]\n",
    "\n",
    "    history = model.fit(X_train, y_train, \n",
    "                        validation_data=(X_test, y_test), \n",
    "                        callbacks=callbacks, \n",
    "                        **kwargs)\n",
    "\n",
    "    return history"
   ]
  },
  {
   "cell_type": "code",
   "execution_count": 29,
   "metadata": {},
   "outputs": [
    {
     "name": "stdout",
     "output_type": "stream",
     "text": [
      "Train on 800 samples, validate on 200 samples\n",
      "Epoch 1/10\n",
      "800/800 [==============================] - 7s 9ms/step - loss: 1.2686 - acc: 0.6362 - val_loss: 1.3148 - val_acc: 0.5900\n",
      "\n",
      "Epoch 00001: val_acc improved from -inf to 0.59000, saving model to weights-improvement-01-0.59.hdf5\n",
      "Epoch 2/10\n",
      "800/800 [==============================] - 7s 9ms/step - loss: 1.2686 - acc: 0.6362 - val_loss: 1.3148 - val_acc: 0.5900\n",
      "\n",
      "Epoch 00002: val_acc did not improve from 0.59000\n",
      "Epoch 3/10\n",
      "800/800 [==============================] - 7s 9ms/step - loss: 1.2686 - acc: 0.6362 - val_loss: 1.3148 - val_acc: 0.5900\n",
      "\n",
      "Epoch 00003: val_acc did not improve from 0.59000\n",
      "Epoch 4/10\n",
      "800/800 [==============================] - 7s 9ms/step - loss: 1.2686 - acc: 0.6362 - val_loss: 1.3148 - val_acc: 0.5900\n",
      "\n",
      "Epoch 00004: val_acc did not improve from 0.59000\n",
      "Epoch 5/10\n",
      "800/800 [==============================] - 7s 9ms/step - loss: 1.2686 - acc: 0.6362 - val_loss: 1.3148 - val_acc: 0.5900\n",
      "\n",
      "Epoch 00005: val_acc did not improve from 0.59000\n",
      "Epoch 6/10\n",
      "800/800 [==============================] - 7s 9ms/step - loss: 1.2686 - acc: 0.6362 - val_loss: 1.3148 - val_acc: 0.5900\n",
      "\n",
      "Epoch 00006: val_acc did not improve from 0.59000\n",
      "Epoch 7/10\n",
      "800/800 [==============================] - 7s 9ms/step - loss: 1.2686 - acc: 0.6362 - val_loss: 1.3148 - val_acc: 0.5900\n",
      "\n",
      "Epoch 00007: val_acc did not improve from 0.59000\n",
      "Epoch 8/10\n",
      "800/800 [==============================] - 7s 9ms/step - loss: 1.2686 - acc: 0.6362 - val_loss: 1.3148 - val_acc: 0.5900\n",
      "\n",
      "Epoch 00008: val_acc did not improve from 0.59000\n",
      "Epoch 9/10\n",
      "800/800 [==============================] - 7s 9ms/step - loss: 1.2686 - acc: 0.6362 - val_loss: 1.3148 - val_acc: 0.5900\n",
      "\n",
      "Epoch 00009: val_acc did not improve from 0.59000\n",
      "Epoch 10/10\n",
      "800/800 [==============================] - 7s 9ms/step - loss: 1.2686 - acc: 0.6362 - val_loss: 1.3148 - val_acc: 0.5900\n",
      "\n",
      "Epoch 00010: val_acc did not improve from 0.59000\n"
     ]
    }
   ],
   "source": [
    "history = train_model(model, X_train, X_test, y_train, y_test, epochs = 2, batch_size = 32, shuffle=True)"
   ]
  },
  {
   "cell_type": "code",
   "execution_count": 30,
   "metadata": {},
   "outputs": [],
   "source": [
    "hist_df = pd.DataFrame(history.history)"
   ]
  },
  {
   "cell_type": "code",
   "execution_count": 45,
   "metadata": {},
   "outputs": [
    {
     "data": {
      "text/plain": [
       "<matplotlib.axes._subplots.AxesSubplot at 0x132935240>"
      ]
     },
     "execution_count": 45,
     "metadata": {},
     "output_type": "execute_result"
    },
    {
     "data": {
      "image/png": "[encoded data removed]",
      "text/plain": [
       "<Figure size 432x288 with 1 Axes>"
      ]
     },
     "metadata": {},
     "output_type": "display_data"
    }
   ],
   "source": [
    "hist_df.plot()"
   ]
  },
  {
   "cell_type": "code",
   "execution_count": 39,
   "metadata": {},
   "outputs": [
    {
     "data": {
      "text/html": [
       "<div>\n",
       "<style scoped>\n",
       "    .dataframe tbody tr th:only-of-type {\n",
       "        vertical-align: middle;\n",
       "    }\n",
       "\n",
       "    .dataframe tbody tr th {\n",
       "        vertical-align: top;\n",
       "    }\n",
       "\n",
       "    .dataframe thead th {\n",
       "        text-align: right;\n",
       "    }\n",
       "</style>\n",
       "<table border=\"1\" class=\"dataframe\">\n",
       "  <thead>\n",
       "    <tr style=\"text-align: right;\">\n",
       "      <th></th>\n",
       "      <th>val_loss</th>\n",
       "      <th>val_acc</th>\n",
       "      <th>loss</th>\n",
       "      <th>acc</th>\n",
       "    </tr>\n",
       "  </thead>\n",
       "  <tbody>\n",
       "    <tr>\n",
       "      <th>0</th>\n",
       "      <td>1.314833</td>\n",
       "      <td>0.59</td>\n",
       "      <td>1.268594</td>\n",
       "      <td>0.63625</td>\n",
       "    </tr>\n",
       "    <tr>\n",
       "      <th>1</th>\n",
       "      <td>1.314833</td>\n",
       "      <td>0.59</td>\n",
       "      <td>1.268590</td>\n",
       "      <td>0.63625</td>\n",
       "    </tr>\n",
       "    <tr>\n",
       "      <th>2</th>\n",
       "      <td>1.314833</td>\n",
       "      <td>0.59</td>\n",
       "      <td>1.268588</td>\n",
       "      <td>0.63625</td>\n",
       "    </tr>\n",
       "    <tr>\n",
       "      <th>3</th>\n",
       "      <td>1.314833</td>\n",
       "      <td>0.59</td>\n",
       "      <td>1.268586</td>\n",
       "      <td>0.63625</td>\n",
       "    </tr>\n",
       "    <tr>\n",
       "      <th>4</th>\n",
       "      <td>1.314833</td>\n",
       "      <td>0.59</td>\n",
       "      <td>1.268587</td>\n",
       "      <td>0.63625</td>\n",
       "    </tr>\n",
       "    <tr>\n",
       "      <th>5</th>\n",
       "      <td>1.314833</td>\n",
       "      <td>0.59</td>\n",
       "      <td>1.268587</td>\n",
       "      <td>0.63625</td>\n",
       "    </tr>\n",
       "    <tr>\n",
       "      <th>6</th>\n",
       "      <td>1.314833</td>\n",
       "      <td>0.59</td>\n",
       "      <td>1.268584</td>\n",
       "      <td>0.63625</td>\n",
       "    </tr>\n",
       "    <tr>\n",
       "      <th>7</th>\n",
       "      <td>1.314833</td>\n",
       "      <td>0.59</td>\n",
       "      <td>1.268586</td>\n",
       "      <td>0.63625</td>\n",
       "    </tr>\n",
       "    <tr>\n",
       "      <th>8</th>\n",
       "      <td>1.314833</td>\n",
       "      <td>0.59</td>\n",
       "      <td>1.268587</td>\n",
       "      <td>0.63625</td>\n",
       "    </tr>\n",
       "    <tr>\n",
       "      <th>9</th>\n",
       "      <td>1.314833</td>\n",
       "      <td>0.59</td>\n",
       "      <td>1.268587</td>\n",
       "      <td>0.63625</td>\n",
       "    </tr>\n",
       "  </tbody>\n",
       "</table>\n",
       "</div>"
      ],
      "text/plain": [
       "   val_loss  val_acc      loss      acc\n",
       "0  1.314833     0.59  1.268594  0.63625\n",
       "1  1.314833     0.59  1.268590  0.63625\n",
       "2  1.314833     0.59  1.268588  0.63625\n",
       "3  1.314833     0.59  1.268586  0.63625\n",
       "4  1.314833     0.59  1.268587  0.63625\n",
       "5  1.314833     0.59  1.268587  0.63625\n",
       "6  1.314833     0.59  1.268584  0.63625\n",
       "7  1.314833     0.59  1.268586  0.63625\n",
       "8  1.314833     0.59  1.268587  0.63625\n",
       "9  1.314833     0.59  1.268587  0.63625"
      ]
     },
     "execution_count": 39,
     "metadata": {},
     "output_type": "execute_result"
    }
   ],
   "source": [
    "hist_df"
   ]
  },
  {
   "cell_type": "code",
   "execution_count": 43,
   "metadata": {},
   "outputs": [
    {
     "data": {
      "text/plain": [
       "0.63625"
      ]
     },
     "execution_count": 43,
     "metadata": {},
     "output_type": "execute_result"
    }
   ],
   "source": []
  },
  {
   "cell_type": "code",
   "execution_count": null,
   "metadata": {},
   "outputs": [],
   "source": []
  }
 ],
 "metadata": {
  "kernelspec": {
   "display_name": "Python 3",
   "language": "python",
   "name": "python3"
  },
  "language_info": {
   "codemirror_mode": {
    "name": "ipython",
    "version": 3
   },
   "file_extension": ".py",
   "mimetype": "text/x-python",
   "name": "python",
   "nbconvert_exporter": "python",
   "pygments_lexer": "ipython3",
   "version": "3.6.5"
  }
 },
 "nbformat": 4,
 "nbformat_minor": 2
}
