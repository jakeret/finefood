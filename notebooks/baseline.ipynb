{
 "cells": [
  {
   "cell_type": "code",
   "execution_count": 1,
   "metadata": {},
   "outputs": [],
   "source": [
    "import pandas as pd\n",
    "import seaborn as sns\n",
    "import matplotlib.pyplot as plt\n",
    "%matplotlib inline\n",
    "import numpy as np"
   ]
  },
  {
   "cell_type": "code",
   "execution_count": 15,
   "metadata": {},
   "outputs": [],
   "source": [
    "df = pd.read_csv(\"../data/Reviews.csv\").set_index(\"Id\")\n",
    "df = df.sample(n=10000)"
   ]
  },
  {
   "cell_type": "code",
   "execution_count": 16,
   "metadata": {},
   "outputs": [
    {
     "data": {
      "text/html": [
       "<div>\n",
       "<style scoped>\n",
       "    .dataframe tbody tr th:only-of-type {\n",
       "        vertical-align: middle;\n",
       "    }\n",
       "\n",
       "    .dataframe tbody tr th {\n",
       "        vertical-align: top;\n",
       "    }\n",
       "\n",
       "    .dataframe thead th {\n",
       "        text-align: right;\n",
       "    }\n",
       "</style>\n",
       "<table border=\"1\" class=\"dataframe\">\n",
       "  <thead>\n",
       "    <tr style=\"text-align: right;\">\n",
       "      <th></th>\n",
       "      <th>ProductId</th>\n",
       "      <th>UserId</th>\n",
       "      <th>ProfileName</th>\n",
       "      <th>HelpfulnessNumerator</th>\n",
       "      <th>HelpfulnessDenominator</th>\n",
       "      <th>Score</th>\n",
       "      <th>Time</th>\n",
       "      <th>Summary</th>\n",
       "      <th>Text</th>\n",
       "      <th>Helpfulness</th>\n",
       "    </tr>\n",
       "    <tr>\n",
       "      <th>Id</th>\n",
       "      <th></th>\n",
       "      <th></th>\n",
       "      <th></th>\n",
       "      <th></th>\n",
       "      <th></th>\n",
       "      <th></th>\n",
       "      <th></th>\n",
       "      <th></th>\n",
       "      <th></th>\n",
       "      <th></th>\n",
       "    </tr>\n",
       "  </thead>\n",
       "  <tbody>\n",
       "    <tr>\n",
       "      <th>14809</th>\n",
       "      <td>B001I8BNMC</td>\n",
       "      <td>A2VMLZI6N4HAKK</td>\n",
       "      <td>NevadaGramma</td>\n",
       "      <td>1</td>\n",
       "      <td>2</td>\n",
       "      <td>5</td>\n",
       "      <td>1319414400</td>\n",
       "      <td>What a surprise...</td>\n",
       "      <td>Due to \"budget cuts\" we decided no more Diedri...</td>\n",
       "      <td>0.500000</td>\n",
       "    </tr>\n",
       "    <tr>\n",
       "      <th>511887</th>\n",
       "      <td>B001HTGAUM</td>\n",
       "      <td>A1AFOZHYYYYYH0</td>\n",
       "      <td>Brother Maynard</td>\n",
       "      <td>0</td>\n",
       "      <td>0</td>\n",
       "      <td>3</td>\n",
       "      <td>1344384000</td>\n",
       "      <td>I Eat Three Every Day to Help Keep Me Strong</td>\n",
       "      <td>Great product off the shelf - healthy and tast...</td>\n",
       "      <td>-1.000000</td>\n",
       "    </tr>\n",
       "    <tr>\n",
       "      <th>254025</th>\n",
       "      <td>B000JZ3576</td>\n",
       "      <td>A15UPJF4RHJE4H</td>\n",
       "      <td>amandab</td>\n",
       "      <td>1</td>\n",
       "      <td>1</td>\n",
       "      <td>4</td>\n",
       "      <td>1334188800</td>\n",
       "      <td>Perfect except there was no green apple!</td>\n",
       "      <td>I love airheads, and there's not much that can...</td>\n",
       "      <td>1.000000</td>\n",
       "    </tr>\n",
       "    <tr>\n",
       "      <th>540353</th>\n",
       "      <td>B0005YKSGC</td>\n",
       "      <td>A3JV071KO43Q5X</td>\n",
       "      <td>Jeff Pittman \"Jeff\"</td>\n",
       "      <td>0</td>\n",
       "      <td>0</td>\n",
       "      <td>5</td>\n",
       "      <td>1289433600</td>\n",
       "      <td>Accept no substitute!</td>\n",
       "      <td>Out of the clear blue, I recently got a yearni...</td>\n",
       "      <td>-1.000000</td>\n",
       "    </tr>\n",
       "    <tr>\n",
       "      <th>390421</th>\n",
       "      <td>B0012HEVQE</td>\n",
       "      <td>A1R6PBUJB8LBGC</td>\n",
       "      <td>Stretch \"Stretch\"</td>\n",
       "      <td>4</td>\n",
       "      <td>7</td>\n",
       "      <td>1</td>\n",
       "      <td>1266451200</td>\n",
       "      <td>Why more BPA?</td>\n",
       "      <td>Muir Glen cans are lined in plastic and leach ...</td>\n",
       "      <td>0.571429</td>\n",
       "    </tr>\n",
       "  </tbody>\n",
       "</table>\n",
       "</div>"
      ],
      "text/plain": [
       "         ProductId          UserId          ProfileName  HelpfulnessNumerator  \\\n",
       "Id                                                                              \n",
       "14809   B001I8BNMC  A2VMLZI6N4HAKK         NevadaGramma                     1   \n",
       "511887  B001HTGAUM  A1AFOZHYYYYYH0      Brother Maynard                     0   \n",
       "254025  B000JZ3576  A15UPJF4RHJE4H              amandab                     1   \n",
       "540353  B0005YKSGC  A3JV071KO43Q5X  Jeff Pittman \"Jeff\"                     0   \n",
       "390421  B0012HEVQE  A1R6PBUJB8LBGC    Stretch \"Stretch\"                     4   \n",
       "\n",
       "        HelpfulnessDenominator  Score        Time  \\\n",
       "Id                                                  \n",
       "14809                        2      5  1319414400   \n",
       "511887                       0      3  1344384000   \n",
       "254025                       1      4  1334188800   \n",
       "540353                       0      5  1289433600   \n",
       "390421                       7      1  1266451200   \n",
       "\n",
       "                                             Summary  \\\n",
       "Id                                                     \n",
       "14809                             What a surprise...   \n",
       "511887  I Eat Three Every Day to Help Keep Me Strong   \n",
       "254025      Perfect except there was no green apple!   \n",
       "540353                         Accept no substitute!   \n",
       "390421                                 Why more BPA?   \n",
       "\n",
       "                                                     Text  Helpfulness  \n",
       "Id                                                                      \n",
       "14809   Due to \"budget cuts\" we decided no more Diedri...     0.500000  \n",
       "511887  Great product off the shelf - healthy and tast...    -1.000000  \n",
       "254025  I love airheads, and there's not much that can...     1.000000  \n",
       "540353  Out of the clear blue, I recently got a yearni...    -1.000000  \n",
       "390421  Muir Glen cans are lined in plastic and leach ...     0.571429  "
      ]
     },
     "execution_count": 16,
     "metadata": {},
     "output_type": "execute_result"
    }
   ],
   "source": [
    "df[\"Helpfulness\"] = df.HelpfulnessNumerator / df.HelpfulnessDenominator\n",
    "df.Helpfulness.fillna(-1, inplace=True)\n",
    "df.head()"
   ]
  },
  {
   "cell_type": "code",
   "execution_count": 17,
   "metadata": {},
   "outputs": [
    {
     "name": "stdout",
     "output_type": "stream",
     "text": [
      "<class 'pandas.core.frame.DataFrame'>\n",
      "Int64Index: 10000 entries, 14809 to 81121\n",
      "Data columns (total 10 columns):\n",
      "ProductId                 10000 non-null object\n",
      "UserId                    10000 non-null object\n",
      "ProfileName               9999 non-null object\n",
      "HelpfulnessNumerator      10000 non-null int64\n",
      "HelpfulnessDenominator    10000 non-null int64\n",
      "Score                     10000 non-null int64\n",
      "Time                      10000 non-null int64\n",
      "Summary                   10000 non-null object\n",
      "Text                      10000 non-null object\n",
      "Helpfulness               10000 non-null float64\n",
      "dtypes: float64(1), int64(4), object(5)\n",
      "memory usage: 859.4+ KB\n"
     ]
    }
   ],
   "source": [
    "df.info()"
   ]
  },
  {
   "cell_type": "code",
   "execution_count": 18,
   "metadata": {},
   "outputs": [
    {
     "data": {
      "text/plain": [
       "<matplotlib.axes._subplots.AxesSubplot at 0x145bf90b8>"
      ]
     },
     "execution_count": 18,
     "metadata": {},
     "output_type": "execute_result"
    },
    {
     "data": {
      "image/png": "[encoded data removed]",
      "text/plain": [
       "<Figure size 432x288 with 1 Axes>"
      ]
     },
     "metadata": {},
     "output_type": "display_data"
    }
   ],
   "source": [
    "sns.countplot(df['Score'])"
   ]
  },
  {
   "cell_type": "code",
   "execution_count": 20,
   "metadata": {},
   "outputs": [
    {
     "data": {
      "text/plain": [
       "<matplotlib.axes._subplots.AxesSubplot at 0x140ca8f98>"
      ]
     },
     "execution_count": 20,
     "metadata": {},
     "output_type": "execute_result"
    },
    {
     "data": {
      "image/png": "[encoded data removed]",
      "text/plain": [
       "<Figure size 864x576 with 1 Axes>"
      ]
     },
     "metadata": {},
     "output_type": "display_data"
    }
   ],
   "source": [
    "df['datetime'] = pd.to_datetime(df[\"Time\"], unit='s')\n",
    "df_grp = df.groupby([df.datetime.dt.to_period(\"M\"), df.Score]).count()[\"ProductId\"].unstack()\n",
    "\n",
    "df_grp.plot(kind=\"bar\", figsize=(12,8), stacked=True)"
   ]
  },
  {
   "cell_type": "code",
   "execution_count": 21,
   "metadata": {},
   "outputs": [],
   "source": [
    "from sklearn.feature_extraction.text import TfidfVectorizer\n",
    "from sklearn.preprocessing import OneHotEncoder"
   ]
  },
  {
   "cell_type": "code",
   "execution_count": 22,
   "metadata": {},
   "outputs": [],
   "source": [
    "vectorizer = TfidfVectorizer(max_df=.8)\n",
    "enc = OneHotEncoder()"
   ]
  },
  {
   "cell_type": "code",
   "execution_count": null,
   "metadata": {},
   "outputs": [],
   "source": []
  },
  {
   "cell_type": "code",
   "execution_count": 60,
   "metadata": {},
   "outputs": [],
   "source": [
    "scores = df.Score.values[:, np.newaxis]"
   ]
  },
  {
   "cell_type": "code",
   "execution_count": 24,
   "metadata": {},
   "outputs": [
    {
     "data": {
      "text/plain": [
       "OneHotEncoder(categorical_features='all', dtype=<class 'numpy.float64'>,\n",
       "       handle_unknown='error', n_values='auto', sparse=True)"
      ]
     },
     "execution_count": 24,
     "metadata": {},
     "output_type": "execute_result"
    }
   ],
   "source": [
    "vectorizer.fit(df.Text)\n",
    "enc.fit(scores)"
   ]
  },
  {
   "cell_type": "code",
   "execution_count": 25,
   "metadata": {},
   "outputs": [],
   "source": [
    "X = vectorizer.transform(df.Text).toarray()\n",
    "Y = enc.transform(scores).toarray()"
   ]
  },
  {
   "cell_type": "code",
   "execution_count": 74,
   "metadata": {},
   "outputs": [],
   "source": [
    "Y = scores"
   ]
  },
  {
   "cell_type": "code",
   "execution_count": 75,
   "metadata": {},
   "outputs": [],
   "source": [
    "from sklearn.model_selection import train_test_split"
   ]
  },
  {
   "cell_type": "code",
   "execution_count": 76,
   "metadata": {},
   "outputs": [],
   "source": [
    "X_train, X_test, y_train, y_test = train_test_split(X,Y,test_size=.2)"
   ]
  },
  {
   "cell_type": "code",
   "execution_count": 77,
   "metadata": {},
   "outputs": [
    {
     "data": {
      "text/plain": [
       "((8000, 20244), (8000, 1))"
      ]
     },
     "execution_count": 77,
     "metadata": {},
     "output_type": "execute_result"
    }
   ],
   "source": [
    "X_train.shape, y_train.shape"
   ]
  },
  {
   "cell_type": "code",
   "execution_count": 78,
   "metadata": {},
   "outputs": [],
   "source": [
    "from sklearn.naive_bayes import GaussianNB"
   ]
  },
  {
   "cell_type": "code",
   "execution_count": 109,
   "metadata": {},
   "outputs": [],
   "source": [
    "from sklearn import grid_search, cross_validation\n",
    "from sklearn.linear_model import LogisticRegression\n",
    "from sklearn.metrics import classification_report, confusion_matrix"
   ]
  },
  {
   "cell_type": "code",
   "execution_count": 79,
   "metadata": {},
   "outputs": [
    {
     "name": "stderr",
     "output_type": "stream",
     "text": [
      "/Users/joak/.local/share/virtualenvs/finefood-ka5fkx7t/lib/python3.6/site-packages/sklearn/utils/validation.py:578: DataConversionWarning: A column-vector y was passed when a 1d array was expected. Please change the shape of y to (n_samples, ), for example using ravel().\n",
      "  y = column_or_1d(y, warn=True)\n"
     ]
    },
    {
     "data": {
      "text/plain": [
       "GaussianNB(priors=None)"
      ]
     },
     "execution_count": 79,
     "metadata": {},
     "output_type": "execute_result"
    }
   ],
   "source": [
    "clf = GaussianNB()\n",
    "clf.fit(X_train, y_train)"
   ]
  },
  {
   "cell_type": "code",
   "execution_count": 80,
   "metadata": {},
   "outputs": [],
   "source": [
    "predictions = clf.predict(X_test)"
   ]
  },
  {
   "cell_type": "code",
   "execution_count": 106,
   "metadata": {},
   "outputs": [],
   "source": [
    "predictions = clf.predict(X_test) \n",
    "probas = clf.predict_proba(X_test)"
   ]
  },
  {
   "cell_type": "code",
   "execution_count": 108,
   "metadata": {},
   "outputs": [
    {
     "name": "stdout",
     "output_type": "stream",
     "text": [
      "             precision    recall  f1-score   support\n",
      "\n",
      "          1       0.14      0.12      0.13       184\n",
      "          2       0.06      0.13      0.08       102\n",
      "          3       0.08      0.11      0.10       160\n",
      "          4       0.16      0.21      0.18       252\n",
      "          5       0.64      0.53      0.58      1302\n",
      "\n",
      "avg / total       0.46      0.40      0.43      2000\n",
      "\n"
     ]
    }
   ],
   "source": [
    "print(classification_report(y_test, predictions))"
   ]
  },
  {
   "cell_type": "code",
   "execution_count": 110,
   "metadata": {},
   "outputs": [
    {
     "data": {
      "text/plain": [
       "array([[ 22,  19,  17,  21, 105],\n",
       "       [  9,  13,   9,  13,  58],\n",
       "       [ 19,  15,  18,  18,  90],\n",
       "       [ 17,  25,  21,  52, 137],\n",
       "       [ 93, 137, 153, 223, 696]])"
      ]
     },
     "execution_count": 110,
     "metadata": {},
     "output_type": "execute_result"
    }
   ],
   "source": [
    "confusion_matrix(y_test, predictions)"
   ]
  },
  {
   "cell_type": "code",
   "execution_count": 113,
   "metadata": {},
   "outputs": [
    {
     "data": {
      "text/plain": [
       "(8000, 1)"
      ]
     },
     "execution_count": 113,
     "metadata": {},
     "output_type": "execute_result"
    }
   ],
   "source": [
    "y_train.shape"
   ]
  },
  {
   "cell_type": "code",
   "execution_count": null,
   "metadata": {},
   "outputs": [],
   "source": []
  }
 ],
 "metadata": {
  "kernelspec": {
   "display_name": "Python 3",
   "language": "python",
   "name": "python3"
  },
  "language_info": {
   "codemirror_mode": {
    "name": "ipython",
    "version": 3
   },
   "file_extension": ".py",
   "mimetype": "text/x-python",
   "name": "python",
   "nbconvert_exporter": "python",
   "pygments_lexer": "ipython3",
   "version": "3.6.5"
  }
 },
 "nbformat": 4,
 "nbformat_minor": 2
}
